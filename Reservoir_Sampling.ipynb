{
 "cells": [
  {
   "cell_type": "code",
   "execution_count": 3,
   "metadata": {
    "collapsed": false
   },
   "outputs": [
    {
     "name": "stdout",
     "output_type": "stream",
     "text": [
      "[29, 18]\n"
     ]
    }
   ],
   "source": [
    "# demo, CS 591 \n",
    "# C.E. Tsourakakis, babis@seas.harvard.edu\n",
    "\n",
    "import random \n",
    "\n",
    "def reservoir_sampling(stream,k):\n",
    "    Sample =[]\n",
    "    counter = 1 \n",
    "    for x in stream:\n",
    "        if(counter<=k): \n",
    "            Sample.append(x)\n",
    "        else:\n",
    "            c = random.randint(0,counter-1);\n",
    "            if( c<k):\n",
    "                Sample[c] = x \n",
    "        counter +=1\n",
    "    return Sample\n",
    "\n",
    "\n",
    "output = reservoir_sampling(range(30),2)\n",
    "print(output)"
   ]
  },
  {
   "cell_type": "code",
   "execution_count": 16,
   "metadata": {
    "collapsed": false
   },
   "outputs": [],
   "source": [
    "def weighted_reservoir_sampling(stream): \n",
    "    counter = 1 \n",
    "    W = 0\n",
    "    for x in stream: \n",
    "        W += x \n",
    "        if(counter == 1): \n",
    "            s = (x)\n",
    "        else:\n",
    "            p = x/W \n",
    "            if( random.random() < p):\n",
    "                s = x \n",
    "        counter +=1\n",
    "    return s\n",
    "\n"
   ]
  },
  {
   "cell_type": "code",
   "execution_count": null,
   "metadata": {
    "collapsed": false
   },
   "outputs": [],
   "source": [
    "import matplotlib.pyplot as plt\n",
    "%matplotlib\n",
    "import numpy as np\n",
    "sampled_data =[]\n",
    "for i in range(100):\n",
    "    sampled_data.append( weighted_reservoir_sampling([100, 20, 5, 15]) )\n",
    "\n",
    "    \n",
    "weights = np.ones_like(myarray)/len(myarray)\n",
    "plt.hist(sampled_data, weights=weights)\n",
    "plt.hist(sampled_data, normed=True)\n",
    "#np.histogram(sampled_data)"
   ]
  },
  {
   "cell_type": "code",
   "execution_count": null,
   "metadata": {
    "collapsed": true
   },
   "outputs": [],
   "source": []
  }
 ],
 "metadata": {
  "kernelspec": {
   "display_name": "Python 3",
   "language": "python",
   "name": "python3"
  },
  "language_info": {
   "codemirror_mode": {
    "name": "ipython",
    "version": 3
   },
   "file_extension": ".py",
   "mimetype": "text/x-python",
   "name": "python",
   "nbconvert_exporter": "python",
   "pygments_lexer": "ipython3",
   "version": "3.5.2"
  }
 },
 "nbformat": 4,
 "nbformat_minor": 1
}
